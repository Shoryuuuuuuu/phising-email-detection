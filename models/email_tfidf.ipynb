{
  "cells": [
    {
      "cell_type": "markdown",
      "metadata": {
        "id": "8kpAjHKp7yRW"
      },
      "source": [
        "### Import Library"
      ]
    },
    {
      "cell_type": "code",
      "execution_count": 1,
      "metadata": {
        "colab": {
          "base_uri": "https://localhost:8080/"
        },
        "id": "uLhYoeQl0HJd",
        "outputId": "a6e9dc25-a1a6-460b-ec76-16a3e9db435d"
      },
      "outputs": [
        {
          "name": "stderr",
          "output_type": "stream",
          "text": [
            "[nltk_data] Downloading package stopwords to\n",
            "[nltk_data]     C:\\Users\\Acer\\AppData\\Roaming\\nltk_data...\n",
            "[nltk_data]   Package stopwords is already up-to-date!\n",
            "[nltk_data] Downloading collection 'all'\n",
            "[nltk_data]    | \n",
            "[nltk_data]    | Downloading package abc to\n",
            "[nltk_data]    |     C:\\Users\\Acer\\AppData\\Roaming\\nltk_data...\n",
            "[nltk_data]    |   Package abc is already up-to-date!\n",
            "[nltk_data]    | Downloading package alpino to\n",
            "[nltk_data]    |     C:\\Users\\Acer\\AppData\\Roaming\\nltk_data...\n",
            "[nltk_data]    |   Package alpino is already up-to-date!\n",
            "[nltk_data]    | Downloading package averaged_perceptron_tagger to\n",
            "[nltk_data]    |     C:\\Users\\Acer\\AppData\\Roaming\\nltk_data...\n",
            "[nltk_data]    |   Package averaged_perceptron_tagger is already up-\n",
            "[nltk_data]    |       to-date!\n",
            "[nltk_data]    | Downloading package averaged_perceptron_tagger_eng to\n",
            "[nltk_data]    |     C:\\Users\\Acer\\AppData\\Roaming\\nltk_data...\n",
            "[nltk_data]    |   Package averaged_perceptron_tagger_eng is already\n",
            "[nltk_data]    |       up-to-date!\n",
            "[nltk_data]    | Downloading package averaged_perceptron_tagger_ru to\n",
            "[nltk_data]    |     C:\\Users\\Acer\\AppData\\Roaming\\nltk_data...\n",
            "[nltk_data]    |   Package averaged_perceptron_tagger_ru is already\n",
            "[nltk_data]    |       up-to-date!\n",
            "[nltk_data]    | Downloading package averaged_perceptron_tagger_rus to\n",
            "[nltk_data]    |     C:\\Users\\Acer\\AppData\\Roaming\\nltk_data...\n",
            "[nltk_data]    |   Package averaged_perceptron_tagger_rus is already\n",
            "[nltk_data]    |       up-to-date!\n",
            "[nltk_data]    | Downloading package basque_grammars to\n",
            "[nltk_data]    |     C:\\Users\\Acer\\AppData\\Roaming\\nltk_data...\n",
            "[nltk_data]    |   Package basque_grammars is already up-to-date!\n",
            "[nltk_data]    | Downloading package bcp47 to\n",
            "[nltk_data]    |     C:\\Users\\Acer\\AppData\\Roaming\\nltk_data...\n",
            "[nltk_data]    |   Package bcp47 is already up-to-date!\n",
            "[nltk_data]    | Downloading package biocreative_ppi to\n",
            "[nltk_data]    |     C:\\Users\\Acer\\AppData\\Roaming\\nltk_data...\n",
            "[nltk_data]    |   Package biocreative_ppi is already up-to-date!\n",
            "[nltk_data]    | Downloading package bllip_wsj_no_aux to\n",
            "[nltk_data]    |     C:\\Users\\Acer\\AppData\\Roaming\\nltk_data...\n",
            "[nltk_data]    |   Package bllip_wsj_no_aux is already up-to-date!\n",
            "[nltk_data]    | Downloading package book_grammars to\n",
            "[nltk_data]    |     C:\\Users\\Acer\\AppData\\Roaming\\nltk_data...\n",
            "[nltk_data]    |   Package book_grammars is already up-to-date!\n",
            "[nltk_data]    | Downloading package brown to\n",
            "[nltk_data]    |     C:\\Users\\Acer\\AppData\\Roaming\\nltk_data...\n",
            "[nltk_data]    |   Package brown is already up-to-date!\n",
            "[nltk_data]    | Downloading package brown_tei to\n",
            "[nltk_data]    |     C:\\Users\\Acer\\AppData\\Roaming\\nltk_data...\n",
            "[nltk_data]    |   Package brown_tei is already up-to-date!\n",
            "[nltk_data]    | Downloading package cess_cat to\n",
            "[nltk_data]    |     C:\\Users\\Acer\\AppData\\Roaming\\nltk_data...\n",
            "[nltk_data]    |   Package cess_cat is already up-to-date!\n",
            "[nltk_data]    | Downloading package cess_esp to\n",
            "[nltk_data]    |     C:\\Users\\Acer\\AppData\\Roaming\\nltk_data...\n",
            "[nltk_data]    |   Package cess_esp is already up-to-date!\n",
            "[nltk_data]    | Downloading package chat80 to\n",
            "[nltk_data]    |     C:\\Users\\Acer\\AppData\\Roaming\\nltk_data...\n",
            "[nltk_data]    |   Package chat80 is already up-to-date!\n",
            "[nltk_data]    | Downloading package city_database to\n",
            "[nltk_data]    |     C:\\Users\\Acer\\AppData\\Roaming\\nltk_data...\n",
            "[nltk_data]    |   Package city_database is already up-to-date!\n",
            "[nltk_data]    | Downloading package cmudict to\n",
            "[nltk_data]    |     C:\\Users\\Acer\\AppData\\Roaming\\nltk_data...\n",
            "[nltk_data]    |   Package cmudict is already up-to-date!\n",
            "[nltk_data]    | Downloading package comparative_sentences to\n",
            "[nltk_data]    |     C:\\Users\\Acer\\AppData\\Roaming\\nltk_data...\n",
            "[nltk_data]    |   Package comparative_sentences is already up-to-\n",
            "[nltk_data]    |       date!\n",
            "[nltk_data]    | Downloading package comtrans to\n",
            "[nltk_data]    |     C:\\Users\\Acer\\AppData\\Roaming\\nltk_data...\n",
            "[nltk_data]    |   Package comtrans is already up-to-date!\n",
            "[nltk_data]    | Downloading package conll2000 to\n",
            "[nltk_data]    |     C:\\Users\\Acer\\AppData\\Roaming\\nltk_data...\n",
            "[nltk_data]    |   Package conll2000 is already up-to-date!\n",
            "[nltk_data]    | Downloading package conll2002 to\n",
            "[nltk_data]    |     C:\\Users\\Acer\\AppData\\Roaming\\nltk_data...\n",
            "[nltk_data]    |   Package conll2002 is already up-to-date!\n",
            "[nltk_data]    | Downloading package conll2007 to\n",
            "[nltk_data]    |     C:\\Users\\Acer\\AppData\\Roaming\\nltk_data...\n",
            "[nltk_data]    |   Package conll2007 is already up-to-date!\n",
            "[nltk_data]    | Downloading package crubadan to\n",
            "[nltk_data]    |     C:\\Users\\Acer\\AppData\\Roaming\\nltk_data...\n",
            "[nltk_data]    |   Package crubadan is already up-to-date!\n",
            "[nltk_data]    | Downloading package dependency_treebank to\n",
            "[nltk_data]    |     C:\\Users\\Acer\\AppData\\Roaming\\nltk_data...\n",
            "[nltk_data]    |   Package dependency_treebank is already up-to-date!\n",
            "[nltk_data]    | Downloading package dolch to\n",
            "[nltk_data]    |     C:\\Users\\Acer\\AppData\\Roaming\\nltk_data...\n",
            "[nltk_data]    |   Package dolch is already up-to-date!\n",
            "[nltk_data]    | Downloading package english_wordnet to\n",
            "[nltk_data]    |     C:\\Users\\Acer\\AppData\\Roaming\\nltk_data...\n",
            "[nltk_data]    |   Package english_wordnet is already up-to-date!\n",
            "[nltk_data]    | Downloading package europarl_raw to\n",
            "[nltk_data]    |     C:\\Users\\Acer\\AppData\\Roaming\\nltk_data...\n",
            "[nltk_data]    |   Package europarl_raw is already up-to-date!\n",
            "[nltk_data]    | Downloading package extended_omw to\n",
            "[nltk_data]    |     C:\\Users\\Acer\\AppData\\Roaming\\nltk_data...\n",
            "[nltk_data]    |   Package extended_omw is already up-to-date!\n",
            "[nltk_data]    | Downloading package floresta to\n",
            "[nltk_data]    |     C:\\Users\\Acer\\AppData\\Roaming\\nltk_data...\n",
            "[nltk_data]    |   Package floresta is already up-to-date!\n",
            "[nltk_data]    | Downloading package framenet_v15 to\n",
            "[nltk_data]    |     C:\\Users\\Acer\\AppData\\Roaming\\nltk_data...\n",
            "[nltk_data]    |   Package framenet_v15 is already up-to-date!\n",
            "[nltk_data]    | Downloading package framenet_v17 to\n",
            "[nltk_data]    |     C:\\Users\\Acer\\AppData\\Roaming\\nltk_data...\n",
            "[nltk_data]    |   Package framenet_v17 is already up-to-date!\n",
            "[nltk_data]    | Downloading package gazetteers to\n",
            "[nltk_data]    |     C:\\Users\\Acer\\AppData\\Roaming\\nltk_data...\n",
            "[nltk_data]    |   Package gazetteers is already up-to-date!\n",
            "[nltk_data]    | Downloading package genesis to\n",
            "[nltk_data]    |     C:\\Users\\Acer\\AppData\\Roaming\\nltk_data...\n",
            "[nltk_data]    |   Package genesis is already up-to-date!\n",
            "[nltk_data]    | Downloading package gutenberg to\n",
            "[nltk_data]    |     C:\\Users\\Acer\\AppData\\Roaming\\nltk_data...\n",
            "[nltk_data]    |   Package gutenberg is already up-to-date!\n",
            "[nltk_data]    | Downloading package ieer to\n",
            "[nltk_data]    |     C:\\Users\\Acer\\AppData\\Roaming\\nltk_data...\n",
            "[nltk_data]    |   Package ieer is already up-to-date!\n",
            "[nltk_data]    | Downloading package inaugural to\n",
            "[nltk_data]    |     C:\\Users\\Acer\\AppData\\Roaming\\nltk_data...\n",
            "[nltk_data]    |   Package inaugural is already up-to-date!\n",
            "[nltk_data]    | Downloading package indian to\n",
            "[nltk_data]    |     C:\\Users\\Acer\\AppData\\Roaming\\nltk_data...\n",
            "[nltk_data]    |   Package indian is already up-to-date!\n",
            "[nltk_data]    | Downloading package jeita to\n",
            "[nltk_data]    |     C:\\Users\\Acer\\AppData\\Roaming\\nltk_data...\n",
            "[nltk_data]    |   Package jeita is already up-to-date!\n",
            "[nltk_data]    | Downloading package kimmo to\n",
            "[nltk_data]    |     C:\\Users\\Acer\\AppData\\Roaming\\nltk_data...\n",
            "[nltk_data]    |   Package kimmo is already up-to-date!\n",
            "[nltk_data]    | Downloading package knbc to\n",
            "[nltk_data]    |     C:\\Users\\Acer\\AppData\\Roaming\\nltk_data...\n",
            "[nltk_data]    |   Package knbc is already up-to-date!\n",
            "[nltk_data]    | Downloading package large_grammars to\n",
            "[nltk_data]    |     C:\\Users\\Acer\\AppData\\Roaming\\nltk_data...\n",
            "[nltk_data]    |   Package large_grammars is already up-to-date!\n",
            "[nltk_data]    | Downloading package lin_thesaurus to\n",
            "[nltk_data]    |     C:\\Users\\Acer\\AppData\\Roaming\\nltk_data...\n",
            "[nltk_data]    |   Package lin_thesaurus is already up-to-date!\n",
            "[nltk_data]    | Downloading package mac_morpho to\n",
            "[nltk_data]    |     C:\\Users\\Acer\\AppData\\Roaming\\nltk_data...\n",
            "[nltk_data]    |   Package mac_morpho is already up-to-date!\n",
            "[nltk_data]    | Downloading package machado to\n",
            "[nltk_data]    |     C:\\Users\\Acer\\AppData\\Roaming\\nltk_data...\n",
            "[nltk_data]    |   Package machado is already up-to-date!\n",
            "[nltk_data]    | Downloading package masc_tagged to\n",
            "[nltk_data]    |     C:\\Users\\Acer\\AppData\\Roaming\\nltk_data...\n",
            "[nltk_data]    |   Package masc_tagged is already up-to-date!\n",
            "[nltk_data]    | Downloading package maxent_ne_chunker to\n",
            "[nltk_data]    |     C:\\Users\\Acer\\AppData\\Roaming\\nltk_data...\n",
            "[nltk_data]    |   Package maxent_ne_chunker is already up-to-date!\n",
            "[nltk_data]    | Downloading package maxent_ne_chunker_tab to\n",
            "[nltk_data]    |     C:\\Users\\Acer\\AppData\\Roaming\\nltk_data...\n",
            "[nltk_data]    |   Package maxent_ne_chunker_tab is already up-to-\n",
            "[nltk_data]    |       date!\n",
            "[nltk_data]    | Downloading package maxent_treebank_pos_tagger to\n",
            "[nltk_data]    |     C:\\Users\\Acer\\AppData\\Roaming\\nltk_data...\n",
            "[nltk_data]    |   Package maxent_treebank_pos_tagger is already up-\n",
            "[nltk_data]    |       to-date!\n",
            "[nltk_data]    | Downloading package maxent_treebank_pos_tagger_tab to\n",
            "[nltk_data]    |     C:\\Users\\Acer\\AppData\\Roaming\\nltk_data...\n",
            "[nltk_data]    |   Package maxent_treebank_pos_tagger_tab is already\n",
            "[nltk_data]    |       up-to-date!\n",
            "[nltk_data]    | Downloading package mock_corpus to\n",
            "[nltk_data]    |     C:\\Users\\Acer\\AppData\\Roaming\\nltk_data...\n",
            "[nltk_data]    |   Package mock_corpus is already up-to-date!\n",
            "[nltk_data]    | Downloading package moses_sample to\n",
            "[nltk_data]    |     C:\\Users\\Acer\\AppData\\Roaming\\nltk_data...\n",
            "[nltk_data]    |   Package moses_sample is already up-to-date!\n",
            "[nltk_data]    | Downloading package movie_reviews to\n",
            "[nltk_data]    |     C:\\Users\\Acer\\AppData\\Roaming\\nltk_data...\n",
            "[nltk_data]    |   Package movie_reviews is already up-to-date!\n",
            "[nltk_data]    | Downloading package mte_teip5 to\n",
            "[nltk_data]    |     C:\\Users\\Acer\\AppData\\Roaming\\nltk_data...\n",
            "[nltk_data]    |   Package mte_teip5 is already up-to-date!\n",
            "[nltk_data]    | Downloading package mwa_ppdb to\n",
            "[nltk_data]    |     C:\\Users\\Acer\\AppData\\Roaming\\nltk_data...\n",
            "[nltk_data]    |   Package mwa_ppdb is already up-to-date!\n",
            "[nltk_data]    | Downloading package names to\n",
            "[nltk_data]    |     C:\\Users\\Acer\\AppData\\Roaming\\nltk_data...\n",
            "[nltk_data]    |   Package names is already up-to-date!\n",
            "[nltk_data]    | Downloading package nombank.1.0 to\n",
            "[nltk_data]    |     C:\\Users\\Acer\\AppData\\Roaming\\nltk_data...\n",
            "[nltk_data]    |   Package nombank.1.0 is already up-to-date!\n",
            "[nltk_data]    | Downloading package nonbreaking_prefixes to\n",
            "[nltk_data]    |     C:\\Users\\Acer\\AppData\\Roaming\\nltk_data...\n",
            "[nltk_data]    |   Package nonbreaking_prefixes is already up-to-date!\n",
            "[nltk_data]    | Downloading package nps_chat to\n",
            "[nltk_data]    |     C:\\Users\\Acer\\AppData\\Roaming\\nltk_data...\n",
            "[nltk_data]    |   Package nps_chat is already up-to-date!\n",
            "[nltk_data]    | Downloading package omw to\n",
            "[nltk_data]    |     C:\\Users\\Acer\\AppData\\Roaming\\nltk_data...\n",
            "[nltk_data]    |   Package omw is already up-to-date!\n",
            "[nltk_data]    | Downloading package omw-1.4 to\n",
            "[nltk_data]    |     C:\\Users\\Acer\\AppData\\Roaming\\nltk_data...\n",
            "[nltk_data]    |   Package omw-1.4 is already up-to-date!\n",
            "[nltk_data]    | Downloading package opinion_lexicon to\n",
            "[nltk_data]    |     C:\\Users\\Acer\\AppData\\Roaming\\nltk_data...\n",
            "[nltk_data]    |   Package opinion_lexicon is already up-to-date!\n",
            "[nltk_data]    | Downloading package panlex_swadesh to\n",
            "[nltk_data]    |     C:\\Users\\Acer\\AppData\\Roaming\\nltk_data...\n",
            "[nltk_data]    |   Package panlex_swadesh is already up-to-date!\n",
            "[nltk_data]    | Downloading package paradigms to\n",
            "[nltk_data]    |     C:\\Users\\Acer\\AppData\\Roaming\\nltk_data...\n",
            "[nltk_data]    |   Package paradigms is already up-to-date!\n",
            "[nltk_data]    | Downloading package pe08 to\n",
            "[nltk_data]    |     C:\\Users\\Acer\\AppData\\Roaming\\nltk_data...\n",
            "[nltk_data]    |   Package pe08 is already up-to-date!\n",
            "[nltk_data]    | Downloading package perluniprops to\n",
            "[nltk_data]    |     C:\\Users\\Acer\\AppData\\Roaming\\nltk_data...\n",
            "[nltk_data]    |   Package perluniprops is already up-to-date!\n",
            "[nltk_data]    | Downloading package pil to\n",
            "[nltk_data]    |     C:\\Users\\Acer\\AppData\\Roaming\\nltk_data...\n",
            "[nltk_data]    |   Package pil is already up-to-date!\n",
            "[nltk_data]    | Downloading package pl196x to\n",
            "[nltk_data]    |     C:\\Users\\Acer\\AppData\\Roaming\\nltk_data...\n",
            "[nltk_data]    |   Package pl196x is already up-to-date!\n",
            "[nltk_data]    | Downloading package porter_test to\n",
            "[nltk_data]    |     C:\\Users\\Acer\\AppData\\Roaming\\nltk_data...\n",
            "[nltk_data]    |   Package porter_test is already up-to-date!\n",
            "[nltk_data]    | Downloading package ppattach to\n",
            "[nltk_data]    |     C:\\Users\\Acer\\AppData\\Roaming\\nltk_data...\n",
            "[nltk_data]    |   Package ppattach is already up-to-date!\n",
            "[nltk_data]    | Downloading package problem_reports to\n",
            "[nltk_data]    |     C:\\Users\\Acer\\AppData\\Roaming\\nltk_data...\n",
            "[nltk_data]    |   Package problem_reports is already up-to-date!\n",
            "[nltk_data]    | Downloading package product_reviews_1 to\n",
            "[nltk_data]    |     C:\\Users\\Acer\\AppData\\Roaming\\nltk_data...\n",
            "[nltk_data]    |   Package product_reviews_1 is already up-to-date!\n",
            "[nltk_data]    | Downloading package product_reviews_2 to\n",
            "[nltk_data]    |     C:\\Users\\Acer\\AppData\\Roaming\\nltk_data...\n",
            "[nltk_data]    |   Package product_reviews_2 is already up-to-date!\n",
            "[nltk_data]    | Downloading package propbank to\n",
            "[nltk_data]    |     C:\\Users\\Acer\\AppData\\Roaming\\nltk_data...\n",
            "[nltk_data]    |   Package propbank is already up-to-date!\n",
            "[nltk_data]    | Downloading package pros_cons to\n",
            "[nltk_data]    |     C:\\Users\\Acer\\AppData\\Roaming\\nltk_data...\n",
            "[nltk_data]    |   Package pros_cons is already up-to-date!\n",
            "[nltk_data]    | Downloading package ptb to\n",
            "[nltk_data]    |     C:\\Users\\Acer\\AppData\\Roaming\\nltk_data...\n",
            "[nltk_data]    |   Package ptb is already up-to-date!\n",
            "[nltk_data]    | Downloading package punkt to\n",
            "[nltk_data]    |     C:\\Users\\Acer\\AppData\\Roaming\\nltk_data...\n",
            "[nltk_data]    |   Package punkt is already up-to-date!\n",
            "[nltk_data]    | Downloading package punkt_tab to\n",
            "[nltk_data]    |     C:\\Users\\Acer\\AppData\\Roaming\\nltk_data...\n",
            "[nltk_data]    |   Package punkt_tab is already up-to-date!\n",
            "[nltk_data]    | Downloading package qc to\n",
            "[nltk_data]    |     C:\\Users\\Acer\\AppData\\Roaming\\nltk_data...\n",
            "[nltk_data]    |   Package qc is already up-to-date!\n",
            "[nltk_data]    | Downloading package reuters to\n",
            "[nltk_data]    |     C:\\Users\\Acer\\AppData\\Roaming\\nltk_data...\n",
            "[nltk_data]    |   Package reuters is already up-to-date!\n",
            "[nltk_data]    | Downloading package rslp to\n",
            "[nltk_data]    |     C:\\Users\\Acer\\AppData\\Roaming\\nltk_data...\n",
            "[nltk_data]    |   Package rslp is already up-to-date!\n",
            "[nltk_data]    | Downloading package rte to\n",
            "[nltk_data]    |     C:\\Users\\Acer\\AppData\\Roaming\\nltk_data...\n",
            "[nltk_data]    |   Package rte is already up-to-date!\n",
            "[nltk_data]    | Downloading package sample_grammars to\n",
            "[nltk_data]    |     C:\\Users\\Acer\\AppData\\Roaming\\nltk_data...\n",
            "[nltk_data]    |   Package sample_grammars is already up-to-date!\n",
            "[nltk_data]    | Downloading package semcor to\n",
            "[nltk_data]    |     C:\\Users\\Acer\\AppData\\Roaming\\nltk_data...\n",
            "[nltk_data]    |   Package semcor is already up-to-date!\n",
            "[nltk_data]    | Downloading package senseval to\n",
            "[nltk_data]    |     C:\\Users\\Acer\\AppData\\Roaming\\nltk_data...\n",
            "[nltk_data]    |   Package senseval is already up-to-date!\n",
            "[nltk_data]    | Downloading package sentence_polarity to\n",
            "[nltk_data]    |     C:\\Users\\Acer\\AppData\\Roaming\\nltk_data...\n",
            "[nltk_data]    |   Package sentence_polarity is already up-to-date!\n",
            "[nltk_data]    | Downloading package sentiwordnet to\n",
            "[nltk_data]    |     C:\\Users\\Acer\\AppData\\Roaming\\nltk_data...\n",
            "[nltk_data]    |   Package sentiwordnet is already up-to-date!\n",
            "[nltk_data]    | Downloading package shakespeare to\n",
            "[nltk_data]    |     C:\\Users\\Acer\\AppData\\Roaming\\nltk_data...\n",
            "[nltk_data]    |   Package shakespeare is already up-to-date!\n",
            "[nltk_data]    | Downloading package sinica_treebank to\n",
            "[nltk_data]    |     C:\\Users\\Acer\\AppData\\Roaming\\nltk_data...\n",
            "[nltk_data]    |   Package sinica_treebank is already up-to-date!\n",
            "[nltk_data]    | Downloading package smultron to\n",
            "[nltk_data]    |     C:\\Users\\Acer\\AppData\\Roaming\\nltk_data...\n",
            "[nltk_data]    |   Package smultron is already up-to-date!\n",
            "[nltk_data]    | Downloading package snowball_data to\n",
            "[nltk_data]    |     C:\\Users\\Acer\\AppData\\Roaming\\nltk_data...\n",
            "[nltk_data]    |   Package snowball_data is already up-to-date!\n",
            "[nltk_data]    | Downloading package spanish_grammars to\n",
            "[nltk_data]    |     C:\\Users\\Acer\\AppData\\Roaming\\nltk_data...\n",
            "[nltk_data]    |   Package spanish_grammars is already up-to-date!\n",
            "[nltk_data]    | Downloading package state_union to\n",
            "[nltk_data]    |     C:\\Users\\Acer\\AppData\\Roaming\\nltk_data...\n",
            "[nltk_data]    |   Package state_union is already up-to-date!\n",
            "[nltk_data]    | Downloading package stopwords to\n",
            "[nltk_data]    |     C:\\Users\\Acer\\AppData\\Roaming\\nltk_data...\n",
            "[nltk_data]    |   Package stopwords is already up-to-date!\n",
            "[nltk_data]    | Downloading package subjectivity to\n",
            "[nltk_data]    |     C:\\Users\\Acer\\AppData\\Roaming\\nltk_data...\n",
            "[nltk_data]    |   Package subjectivity is already up-to-date!\n",
            "[nltk_data]    | Downloading package swadesh to\n",
            "[nltk_data]    |     C:\\Users\\Acer\\AppData\\Roaming\\nltk_data...\n",
            "[nltk_data]    |   Package swadesh is already up-to-date!\n",
            "[nltk_data]    | Downloading package switchboard to\n",
            "[nltk_data]    |     C:\\Users\\Acer\\AppData\\Roaming\\nltk_data...\n",
            "[nltk_data]    |   Package switchboard is already up-to-date!\n",
            "[nltk_data]    | Downloading package tagsets to\n",
            "[nltk_data]    |     C:\\Users\\Acer\\AppData\\Roaming\\nltk_data...\n",
            "[nltk_data]    |   Package tagsets is already up-to-date!\n",
            "[nltk_data]    | Downloading package tagsets_json to\n",
            "[nltk_data]    |     C:\\Users\\Acer\\AppData\\Roaming\\nltk_data...\n",
            "[nltk_data]    |   Package tagsets_json is already up-to-date!\n",
            "[nltk_data]    | Downloading package timit to\n",
            "[nltk_data]    |     C:\\Users\\Acer\\AppData\\Roaming\\nltk_data...\n",
            "[nltk_data]    |   Package timit is already up-to-date!\n",
            "[nltk_data]    | Downloading package toolbox to\n",
            "[nltk_data]    |     C:\\Users\\Acer\\AppData\\Roaming\\nltk_data...\n",
            "[nltk_data]    |   Package toolbox is already up-to-date!\n",
            "[nltk_data]    | Downloading package treebank to\n",
            "[nltk_data]    |     C:\\Users\\Acer\\AppData\\Roaming\\nltk_data...\n",
            "[nltk_data]    |   Package treebank is already up-to-date!\n",
            "[nltk_data]    | Downloading package twitter_samples to\n",
            "[nltk_data]    |     C:\\Users\\Acer\\AppData\\Roaming\\nltk_data...\n",
            "[nltk_data]    |   Package twitter_samples is already up-to-date!\n",
            "[nltk_data]    | Downloading package udhr to\n",
            "[nltk_data]    |     C:\\Users\\Acer\\AppData\\Roaming\\nltk_data...\n",
            "[nltk_data]    |   Package udhr is already up-to-date!\n",
            "[nltk_data]    | Downloading package udhr2 to\n",
            "[nltk_data]    |     C:\\Users\\Acer\\AppData\\Roaming\\nltk_data...\n",
            "[nltk_data]    |   Package udhr2 is already up-to-date!\n",
            "[nltk_data]    | Downloading package unicode_samples to\n",
            "[nltk_data]    |     C:\\Users\\Acer\\AppData\\Roaming\\nltk_data...\n",
            "[nltk_data]    |   Package unicode_samples is already up-to-date!\n",
            "[nltk_data]    | Downloading package universal_tagset to\n",
            "[nltk_data]    |     C:\\Users\\Acer\\AppData\\Roaming\\nltk_data...\n",
            "[nltk_data]    |   Package universal_tagset is already up-to-date!\n",
            "[nltk_data]    | Downloading package universal_treebanks_v20 to\n",
            "[nltk_data]    |     C:\\Users\\Acer\\AppData\\Roaming\\nltk_data...\n",
            "[nltk_data]    |   Package universal_treebanks_v20 is already up-to-\n",
            "[nltk_data]    |       date!\n",
            "[nltk_data]    | Downloading package vader_lexicon to\n",
            "[nltk_data]    |     C:\\Users\\Acer\\AppData\\Roaming\\nltk_data...\n",
            "[nltk_data]    |   Package vader_lexicon is already up-to-date!\n",
            "[nltk_data]    | Downloading package verbnet to\n",
            "[nltk_data]    |     C:\\Users\\Acer\\AppData\\Roaming\\nltk_data...\n",
            "[nltk_data]    |   Package verbnet is already up-to-date!\n",
            "[nltk_data]    | Downloading package verbnet3 to\n",
            "[nltk_data]    |     C:\\Users\\Acer\\AppData\\Roaming\\nltk_data...\n",
            "[nltk_data]    |   Package verbnet3 is already up-to-date!\n",
            "[nltk_data]    | Downloading package webtext to\n",
            "[nltk_data]    |     C:\\Users\\Acer\\AppData\\Roaming\\nltk_data...\n",
            "[nltk_data]    |   Package webtext is already up-to-date!\n",
            "[nltk_data]    | Downloading package wmt15_eval to\n",
            "[nltk_data]    |     C:\\Users\\Acer\\AppData\\Roaming\\nltk_data...\n",
            "[nltk_data]    |   Package wmt15_eval is already up-to-date!\n",
            "[nltk_data]    | Downloading package word2vec_sample to\n",
            "[nltk_data]    |     C:\\Users\\Acer\\AppData\\Roaming\\nltk_data...\n",
            "[nltk_data]    |   Package word2vec_sample is already up-to-date!\n",
            "[nltk_data]    | Downloading package wordnet to\n",
            "[nltk_data]    |     C:\\Users\\Acer\\AppData\\Roaming\\nltk_data...\n",
            "[nltk_data]    |   Package wordnet is already up-to-date!\n",
            "[nltk_data]    | Downloading package wordnet2021 to\n",
            "[nltk_data]    |     C:\\Users\\Acer\\AppData\\Roaming\\nltk_data...\n",
            "[nltk_data]    |   Package wordnet2021 is already up-to-date!\n",
            "[nltk_data]    | Downloading package wordnet2022 to\n",
            "[nltk_data]    |     C:\\Users\\Acer\\AppData\\Roaming\\nltk_data...\n",
            "[nltk_data]    |   Package wordnet2022 is already up-to-date!\n",
            "[nltk_data]    | Downloading package wordnet31 to\n",
            "[nltk_data]    |     C:\\Users\\Acer\\AppData\\Roaming\\nltk_data...\n",
            "[nltk_data]    |   Package wordnet31 is already up-to-date!\n",
            "[nltk_data]    | Downloading package wordnet_ic to\n",
            "[nltk_data]    |     C:\\Users\\Acer\\AppData\\Roaming\\nltk_data...\n",
            "[nltk_data]    |   Package wordnet_ic is already up-to-date!\n",
            "[nltk_data]    | Downloading package words to\n",
            "[nltk_data]    |     C:\\Users\\Acer\\AppData\\Roaming\\nltk_data...\n",
            "[nltk_data]    |   Package words is already up-to-date!\n",
            "[nltk_data]    | Downloading package ycoe to\n",
            "[nltk_data]    |     C:\\Users\\Acer\\AppData\\Roaming\\nltk_data...\n",
            "[nltk_data]    |   Package ycoe is already up-to-date!\n",
            "[nltk_data]    | \n",
            "[nltk_data]  Done downloading collection all\n"
          ]
        }
      ],
      "source": [
        "import numpy as np\n",
        "import pandas as pd\n",
        "import matplotlib.pyplot as plt\n",
        "import seaborn as sns\n",
        "import nltk\n",
        "nltk.download('stopwords')\n",
        "\n",
        "nltk.download('all')\n",
        "from nltk.tokenize import word_tokenize"
      ]
    },
    {
      "cell_type": "markdown",
      "metadata": {
        "id": "h_bKfEOLA9fN"
      },
      "source": [
        "## Data Preparation\n"
      ]
    },
    {
      "cell_type": "code",
      "execution_count": 2,
      "metadata": {
        "id": "hFro6_q_pu5X"
      },
      "outputs": [],
      "source": [
        "# Baca masing-masing file\n",
        "df1 = pd.read_csv(\"Phishing_Email.csv\")\n",
        "df2 = pd.read_csv(\"deceptive-opinion.csv\")\n",
        "df3 = pd.read_csv(\"proc_email.csv\")\n",
        "\n",
        "# Gabungkan jadi satu dataframe\n",
        "df = pd.concat([df1, df2, df3], ignore_index=True)"
      ]
    },
    {
      "cell_type": "code",
      "execution_count": 3,
      "metadata": {
        "colab": {
          "base_uri": "https://localhost:8080/"
        },
        "id": "iQIKU03-qCxv",
        "outputId": "351b16ce-d938-4907-8e16-ebb95cd430e5"
      },
      "outputs": [
        {
          "name": "stdout",
          "output_type": "stream",
          "text": [
            "<class 'pandas.core.frame.DataFrame'>\n",
            "RangeIndex: 18650 entries, 0 to 18649\n",
            "Data columns (total 3 columns):\n",
            " #   Column      Non-Null Count  Dtype \n",
            "---  ------      --------------  ----- \n",
            " 0   Unnamed: 0  18650 non-null  int64 \n",
            " 1   Email Text  18634 non-null  object\n",
            " 2   Email Type  18650 non-null  object\n",
            "dtypes: int64(1), object(2)\n",
            "memory usage: 437.2+ KB\n"
          ]
        }
      ],
      "source": [
        "df1.info()\n"
      ]
    },
    {
      "cell_type": "code",
      "execution_count": 4,
      "metadata": {
        "colab": {
          "base_uri": "https://localhost:8080/"
        },
        "id": "QyGRSXFuryee",
        "outputId": "f6587f6d-72d5-42d3-9b24-5dabe421778a"
      },
      "outputs": [
        {
          "name": "stdout",
          "output_type": "stream",
          "text": [
            "<class 'pandas.core.frame.DataFrame'>\n",
            "RangeIndex: 1600 entries, 0 to 1599\n",
            "Data columns (total 5 columns):\n",
            " #   Column     Non-Null Count  Dtype \n",
            "---  ------     --------------  ----- \n",
            " 0   deceptive  1600 non-null   object\n",
            " 1   hotel      1600 non-null   object\n",
            " 2   polarity   1600 non-null   object\n",
            " 3   source     1600 non-null   object\n",
            " 4   text       1600 non-null   object\n",
            "dtypes: object(5)\n",
            "memory usage: 62.6+ KB\n"
          ]
        }
      ],
      "source": [
        "df2.info()"
      ]
    },
    {
      "cell_type": "code",
      "execution_count": 5,
      "metadata": {
        "colab": {
          "base_uri": "https://localhost:8080/"
        },
        "id": "OkqDuM_orzuO",
        "outputId": "103b1870-67a3-44d8-da1c-0810ceb2695c"
      },
      "outputs": [
        {
          "name": "stdout",
          "output_type": "stream",
          "text": [
            "<class 'pandas.core.frame.DataFrame'>\n",
            "RangeIndex: 33758 entries, 0 to 33757\n",
            "Data columns (total 14 columns):\n",
            " #   Column      Non-Null Count  Dtype  \n",
            "---  ------      --------------  -----  \n",
            " 0   Unnamed: 0  18650 non-null  float64\n",
            " 1   Email Text  18634 non-null  object \n",
            " 2   Email Type  18650 non-null  object \n",
            " 3   deceptive   1600 non-null   object \n",
            " 4   hotel       1600 non-null   object \n",
            " 5   polarity    1600 non-null   object \n",
            " 6   source      1600 non-null   object \n",
            " 7   text        1600 non-null   object \n",
            " 8   To          13508 non-null  object \n",
            " 9   From        13508 non-null  object \n",
            " 10  X-To        13508 non-null  object \n",
            " 11  X-From      13508 non-null  object \n",
            " 12  content     13508 non-null  object \n",
            " 13  to_index    13508 non-null  object \n",
            "dtypes: float64(1), object(13)\n",
            "memory usage: 3.6+ MB\n"
          ]
        }
      ],
      "source": [
        "df.info()"
      ]
    },
    {
      "cell_type": "code",
      "execution_count": 6,
      "metadata": {
        "colab": {
          "base_uri": "https://localhost:8080/"
        },
        "id": "hRjfjRL4DieI",
        "outputId": "20e966ef-d296-4fc5-b5c1-dbfbc6eb187c"
      },
      "outputs": [
        {
          "name": "stdout",
          "output_type": "stream",
          "text": [
            "['Safe Email' 'Phishing Email']\n"
          ]
        }
      ],
      "source": [
        "print(df1[\"Email Type\"].unique())"
      ]
    },
    {
      "cell_type": "markdown",
      "metadata": {
        "id": "h295YclwBMLt"
      },
      "source": [
        "## Data Preprocessing\n"
      ]
    },
    {
      "cell_type": "code",
      "execution_count": 7,
      "metadata": {
        "colab": {
          "base_uri": "https://localhost:8080/",
          "height": 206
        },
        "id": "4pvYrOMHr1_W",
        "outputId": "de683382-0f2a-4b7d-876b-b45856d2acd8"
      },
      "outputs": [
        {
          "data": {
            "text/html": [
              "<div>\n",
              "<style scoped>\n",
              "    .dataframe tbody tr th:only-of-type {\n",
              "        vertical-align: middle;\n",
              "    }\n",
              "\n",
              "    .dataframe tbody tr th {\n",
              "        vertical-align: top;\n",
              "    }\n",
              "\n",
              "    .dataframe thead th {\n",
              "        text-align: right;\n",
              "    }\n",
              "</style>\n",
              "<table border=\"1\" class=\"dataframe\">\n",
              "  <thead>\n",
              "    <tr style=\"text-align: right;\">\n",
              "      <th></th>\n",
              "      <th>Email Text</th>\n",
              "      <th>Email Type</th>\n",
              "    </tr>\n",
              "  </thead>\n",
              "  <tbody>\n",
              "    <tr>\n",
              "      <th>0</th>\n",
              "      <td>re : 6 . 1100 , disc : uniformitarianism , re ...</td>\n",
              "      <td>Safe Email</td>\n",
              "    </tr>\n",
              "    <tr>\n",
              "      <th>1</th>\n",
              "      <td>the other side of * galicismos * * galicismo *...</td>\n",
              "      <td>Safe Email</td>\n",
              "    </tr>\n",
              "    <tr>\n",
              "      <th>2</th>\n",
              "      <td>re : equistar deal tickets are you still avail...</td>\n",
              "      <td>Safe Email</td>\n",
              "    </tr>\n",
              "    <tr>\n",
              "      <th>3</th>\n",
              "      <td>\\nHello I am your hot lil horny toy.\\n    I am...</td>\n",
              "      <td>Phishing Email</td>\n",
              "    </tr>\n",
              "    <tr>\n",
              "      <th>4</th>\n",
              "      <td>software at incredibly low prices ( 86 % lower...</td>\n",
              "      <td>Phishing Email</td>\n",
              "    </tr>\n",
              "  </tbody>\n",
              "</table>\n",
              "</div>"
            ],
            "text/plain": [
              "                                          Email Text      Email Type\n",
              "0  re : 6 . 1100 , disc : uniformitarianism , re ...      Safe Email\n",
              "1  the other side of * galicismos * * galicismo *...      Safe Email\n",
              "2  re : equistar deal tickets are you still avail...      Safe Email\n",
              "3  \\nHello I am your hot lil horny toy.\\n    I am...  Phishing Email\n",
              "4  software at incredibly low prices ( 86 % lower...  Phishing Email"
            ]
          },
          "execution_count": 7,
          "metadata": {},
          "output_type": "execute_result"
        }
      ],
      "source": [
        "df_phising = df1[[\"Email Text\", \"Email Type\"]]\n",
        "df_phising.head()"
      ]
    },
    {
      "cell_type": "code",
      "execution_count": 8,
      "metadata": {
        "colab": {
          "base_uri": "https://localhost:8080/",
          "height": 206
        },
        "id": "qmVGC_ru7Pvp",
        "outputId": "087ba6eb-dc15-48b5-b5af-d089e6095025"
      },
      "outputs": [
        {
          "data": {
            "text/html": [
              "<div>\n",
              "<style scoped>\n",
              "    .dataframe tbody tr th:only-of-type {\n",
              "        vertical-align: middle;\n",
              "    }\n",
              "\n",
              "    .dataframe tbody tr th {\n",
              "        vertical-align: top;\n",
              "    }\n",
              "\n",
              "    .dataframe thead th {\n",
              "        text-align: right;\n",
              "    }\n",
              "</style>\n",
              "<table border=\"1\" class=\"dataframe\">\n",
              "  <thead>\n",
              "    <tr style=\"text-align: right;\">\n",
              "      <th></th>\n",
              "      <th>text</th>\n",
              "      <th>label</th>\n",
              "    </tr>\n",
              "  </thead>\n",
              "  <tbody>\n",
              "    <tr>\n",
              "      <th>0</th>\n",
              "      <td>re : 6 . 1100 , disc : uniformitarianism , re ...</td>\n",
              "      <td>Safe Email</td>\n",
              "    </tr>\n",
              "    <tr>\n",
              "      <th>1</th>\n",
              "      <td>the other side of * galicismos * * galicismo *...</td>\n",
              "      <td>Safe Email</td>\n",
              "    </tr>\n",
              "    <tr>\n",
              "      <th>2</th>\n",
              "      <td>re : equistar deal tickets are you still avail...</td>\n",
              "      <td>Safe Email</td>\n",
              "    </tr>\n",
              "    <tr>\n",
              "      <th>3</th>\n",
              "      <td>\\nHello I am your hot lil horny toy.\\n    I am...</td>\n",
              "      <td>Phishing Email</td>\n",
              "    </tr>\n",
              "    <tr>\n",
              "      <th>4</th>\n",
              "      <td>software at incredibly low prices ( 86 % lower...</td>\n",
              "      <td>Phishing Email</td>\n",
              "    </tr>\n",
              "  </tbody>\n",
              "</table>\n",
              "</div>"
            ],
            "text/plain": [
              "                                                text           label\n",
              "0  re : 6 . 1100 , disc : uniformitarianism , re ...      Safe Email\n",
              "1  the other side of * galicismos * * galicismo *...      Safe Email\n",
              "2  re : equistar deal tickets are you still avail...      Safe Email\n",
              "3  \\nHello I am your hot lil horny toy.\\n    I am...  Phishing Email\n",
              "4  software at incredibly low prices ( 86 % lower...  Phishing Email"
            ]
          },
          "execution_count": 8,
          "metadata": {},
          "output_type": "execute_result"
        }
      ],
      "source": [
        "df_phising = df_phising.rename(columns={\"Email Text\": \"text\", \"Email Type\": \"label\"})\n",
        "df_phising.head()"
      ]
    },
    {
      "cell_type": "code",
      "execution_count": 9,
      "metadata": {
        "id": "Q_aiVZbp7Wff"
      },
      "outputs": [],
      "source": [
        "df_phising[\"label\"] = df_phising[\"label\"].map({\n",
        "    \"Safe Email\": 0,        # Asli\n",
        "    \"Phishing Email\": 2     # Penipuan/Phishing\n",
        "})"
      ]
    },
    {
      "cell_type": "code",
      "execution_count": 10,
      "metadata": {
        "colab": {
          "base_uri": "https://localhost:8080/",
          "height": 206
        },
        "id": "cqgDe_577ntR",
        "outputId": "eb189a05-2884-4099-bb12-dd25b0b48c50"
      },
      "outputs": [
        {
          "data": {
            "text/html": [
              "<div>\n",
              "<style scoped>\n",
              "    .dataframe tbody tr th:only-of-type {\n",
              "        vertical-align: middle;\n",
              "    }\n",
              "\n",
              "    .dataframe tbody tr th {\n",
              "        vertical-align: top;\n",
              "    }\n",
              "\n",
              "    .dataframe thead th {\n",
              "        text-align: right;\n",
              "    }\n",
              "</style>\n",
              "<table border=\"1\" class=\"dataframe\">\n",
              "  <thead>\n",
              "    <tr style=\"text-align: right;\">\n",
              "      <th></th>\n",
              "      <th>text</th>\n",
              "      <th>deceptive</th>\n",
              "    </tr>\n",
              "  </thead>\n",
              "  <tbody>\n",
              "    <tr>\n",
              "      <th>0</th>\n",
              "      <td>We stayed for a one night getaway with family ...</td>\n",
              "      <td>truthful</td>\n",
              "    </tr>\n",
              "    <tr>\n",
              "      <th>1</th>\n",
              "      <td>Triple A rate with upgrade to view room was le...</td>\n",
              "      <td>truthful</td>\n",
              "    </tr>\n",
              "    <tr>\n",
              "      <th>2</th>\n",
              "      <td>This comes a little late as I'm finally catchi...</td>\n",
              "      <td>truthful</td>\n",
              "    </tr>\n",
              "    <tr>\n",
              "      <th>3</th>\n",
              "      <td>The Omni Chicago really delivers on all fronts...</td>\n",
              "      <td>truthful</td>\n",
              "    </tr>\n",
              "    <tr>\n",
              "      <th>4</th>\n",
              "      <td>I asked for a high floor away from the elevato...</td>\n",
              "      <td>truthful</td>\n",
              "    </tr>\n",
              "  </tbody>\n",
              "</table>\n",
              "</div>"
            ],
            "text/plain": [
              "                                                text deceptive\n",
              "0  We stayed for a one night getaway with family ...  truthful\n",
              "1  Triple A rate with upgrade to view room was le...  truthful\n",
              "2  This comes a little late as I'm finally catchi...  truthful\n",
              "3  The Omni Chicago really delivers on all fronts...  truthful\n",
              "4  I asked for a high floor away from the elevato...  truthful"
            ]
          },
          "execution_count": 10,
          "metadata": {},
          "output_type": "execute_result"
        }
      ],
      "source": [
        "df_deceptive = df2[[\"text\", \"deceptive\"]]\n",
        "df_deceptive.head()"
      ]
    },
    {
      "cell_type": "code",
      "execution_count": 11,
      "metadata": {
        "colab": {
          "base_uri": "https://localhost:8080/",
          "height": 206
        },
        "id": "wTMaLpuB7u-p",
        "outputId": "b2c4adab-0bf5-4c57-a4de-e9653391aa46"
      },
      "outputs": [
        {
          "data": {
            "text/html": [
              "<div>\n",
              "<style scoped>\n",
              "    .dataframe tbody tr th:only-of-type {\n",
              "        vertical-align: middle;\n",
              "    }\n",
              "\n",
              "    .dataframe tbody tr th {\n",
              "        vertical-align: top;\n",
              "    }\n",
              "\n",
              "    .dataframe thead th {\n",
              "        text-align: right;\n",
              "    }\n",
              "</style>\n",
              "<table border=\"1\" class=\"dataframe\">\n",
              "  <thead>\n",
              "    <tr style=\"text-align: right;\">\n",
              "      <th></th>\n",
              "      <th>text</th>\n",
              "      <th>label</th>\n",
              "    </tr>\n",
              "  </thead>\n",
              "  <tbody>\n",
              "    <tr>\n",
              "      <th>0</th>\n",
              "      <td>We stayed for a one night getaway with family ...</td>\n",
              "      <td>truthful</td>\n",
              "    </tr>\n",
              "    <tr>\n",
              "      <th>1</th>\n",
              "      <td>Triple A rate with upgrade to view room was le...</td>\n",
              "      <td>truthful</td>\n",
              "    </tr>\n",
              "    <tr>\n",
              "      <th>2</th>\n",
              "      <td>This comes a little late as I'm finally catchi...</td>\n",
              "      <td>truthful</td>\n",
              "    </tr>\n",
              "    <tr>\n",
              "      <th>3</th>\n",
              "      <td>The Omni Chicago really delivers on all fronts...</td>\n",
              "      <td>truthful</td>\n",
              "    </tr>\n",
              "    <tr>\n",
              "      <th>4</th>\n",
              "      <td>I asked for a high floor away from the elevato...</td>\n",
              "      <td>truthful</td>\n",
              "    </tr>\n",
              "  </tbody>\n",
              "</table>\n",
              "</div>"
            ],
            "text/plain": [
              "                                                text     label\n",
              "0  We stayed for a one night getaway with family ...  truthful\n",
              "1  Triple A rate with upgrade to view room was le...  truthful\n",
              "2  This comes a little late as I'm finally catchi...  truthful\n",
              "3  The Omni Chicago really delivers on all fronts...  truthful\n",
              "4  I asked for a high floor away from the elevato...  truthful"
            ]
          },
          "execution_count": 11,
          "metadata": {},
          "output_type": "execute_result"
        }
      ],
      "source": [
        "df_deceptive = df_deceptive.rename(columns={\"deceptive\": \"label\"})\n",
        "df_deceptive.head()"
      ]
    },
    {
      "cell_type": "code",
      "execution_count": 12,
      "metadata": {
        "id": "4ZRBdIPX7yOZ"
      },
      "outputs": [],
      "source": [
        "df_deceptive[\"label\"] = df_deceptive[\"label\"].map({\n",
        "    \"truthful\": 0,\n",
        "    \"deceptive\": 2\n",
        "})"
      ]
    },
    {
      "cell_type": "code",
      "execution_count": 13,
      "metadata": {
        "colab": {
          "base_uri": "https://localhost:8080/",
          "height": 206
        },
        "id": "YSyEWqIR74Bo",
        "outputId": "0635fe4e-8fc2-4465-ec79-d619cbd3ddeb"
      },
      "outputs": [
        {
          "data": {
            "text/html": [
              "<div>\n",
              "<style scoped>\n",
              "    .dataframe tbody tr th:only-of-type {\n",
              "        vertical-align: middle;\n",
              "    }\n",
              "\n",
              "    .dataframe tbody tr th {\n",
              "        vertical-align: top;\n",
              "    }\n",
              "\n",
              "    .dataframe thead th {\n",
              "        text-align: right;\n",
              "    }\n",
              "</style>\n",
              "<table border=\"1\" class=\"dataframe\">\n",
              "  <thead>\n",
              "    <tr style=\"text-align: right;\">\n",
              "      <th></th>\n",
              "      <th>text</th>\n",
              "    </tr>\n",
              "  </thead>\n",
              "  <tbody>\n",
              "    <tr>\n",
              "      <th>0</th>\n",
              "      <td>ENA Contact\\n\\nDaren Farmer\\nPhone # 713-853-6...</td>\n",
              "    </tr>\n",
              "    <tr>\n",
              "      <th>1</th>\n",
              "      <td>Agreed - can you please confirm directly with ...</td>\n",
              "    </tr>\n",
              "    <tr>\n",
              "      <th>2</th>\n",
              "      <td>Please send Pam Benson the information for Joe...</td>\n",
              "    </tr>\n",
              "    <tr>\n",
              "      <th>3</th>\n",
              "      <td>Blue Range Resources Corporation is an execute...</td>\n",
              "    </tr>\n",
              "    <tr>\n",
              "      <th>4</th>\n",
              "      <td>Andrew,  Attached is the CSA.  I added some la...</td>\n",
              "    </tr>\n",
              "  </tbody>\n",
              "</table>\n",
              "</div>"
            ],
            "text/plain": [
              "                                                text\n",
              "0  ENA Contact\\n\\nDaren Farmer\\nPhone # 713-853-6...\n",
              "1  Agreed - can you please confirm directly with ...\n",
              "2  Please send Pam Benson the information for Joe...\n",
              "3  Blue Range Resources Corporation is an execute...\n",
              "4  Andrew,  Attached is the CSA.  I added some la..."
            ]
          },
          "execution_count": 13,
          "metadata": {},
          "output_type": "execute_result"
        }
      ],
      "source": [
        "df_proc = df3[[\"content\"]].rename(columns = {\"content\": \"text\"})\n",
        "df_proc.head()"
      ]
    },
    {
      "cell_type": "code",
      "execution_count": 14,
      "metadata": {
        "id": "Uw_qkDAm8eIY"
      },
      "outputs": [],
      "source": [
        "df_proc[\"label\"] = None"
      ]
    },
    {
      "cell_type": "code",
      "execution_count": 15,
      "metadata": {
        "id": "5NuTpF8m8hvY"
      },
      "outputs": [],
      "source": [
        "df_supervised = pd.concat([df_phising, df_deceptive], ignore_index=True)\n",
        "df_unlabeled = df_proc.copy()"
      ]
    },
    {
      "cell_type": "code",
      "execution_count": 16,
      "metadata": {
        "colab": {
          "base_uri": "https://localhost:8080/"
        },
        "id": "3pxY1qaS8lM6",
        "outputId": "c5ea3965-26c1-43c1-bbca-e970199a87b8"
      },
      "outputs": [
        {
          "name": "stdout",
          "output_type": "stream",
          "text": [
            "                                                    text  label\n",
            "0      re : 6 . 1100 , disc : uniformitarianism , re ...      0\n",
            "1      the other side of * galicismos * * galicismo *...      0\n",
            "2      re : equistar deal tickets are you still avail...      0\n",
            "3      \\nHello I am your hot lil horny toy.\\n    I am...      2\n",
            "4      software at incredibly low prices ( 86 % lower...      2\n",
            "...                                                  ...    ...\n",
            "20245  Problems started when I booked the InterContin...      2\n",
            "20246  The Amalfi Hotel has a beautiful website and i...      2\n",
            "20247  The Intercontinental Chicago Magnificent Mile ...      2\n",
            "20248  The Palmer House Hilton, while it looks good i...      2\n",
            "20249  As a former Chicagoan, I'm appalled at the Ama...      2\n",
            "\n",
            "[20250 rows x 2 columns]\n"
          ]
        }
      ],
      "source": [
        "print(df_supervised)"
      ]
    },
    {
      "cell_type": "code",
      "execution_count": 17,
      "metadata": {
        "colab": {
          "base_uri": "https://localhost:8080/"
        },
        "id": "TrxmKFncCFTI",
        "outputId": "19fd4ad4-8441-4373-9f11-b5b8f36ceb77"
      },
      "outputs": [
        {
          "name": "stdout",
          "output_type": "stream",
          "text": [
            "                                                    text label\n",
            "0      ENA Contact\\n\\nDaren Farmer\\nPhone # 713-853-6...  None\n",
            "1      Agreed - can you please confirm directly with ...  None\n",
            "2      Please send Pam Benson the information for Joe...  None\n",
            "3      Blue Range Resources Corporation is an execute...  None\n",
            "4      Andrew,  Attached is the CSA.  I added some la...  None\n",
            "...                                                  ...   ...\n",
            "13503  Second message from Bruce.\\n------------------...  None\n",
            "13504  What occurred at this point in prior months?  ...  None\n",
            "13505  We are half way home - You passed the drug tes...  None\n",
            "13506  please print\\n----- Forwarded by Steven J Kean...  None\n",
            "13507  Do you have a copy of Maureen's deal ticket?\\n...  None\n",
            "\n",
            "[13508 rows x 2 columns]\n"
          ]
        }
      ],
      "source": [
        "print(df_unlabeled)"
      ]
    },
    {
      "cell_type": "code",
      "execution_count": 18,
      "metadata": {
        "colab": {
          "base_uri": "https://localhost:8080/",
          "height": 147
        },
        "id": "14Y1tTjg8qEL",
        "outputId": "c961d4f8-8948-4c3b-9802-f97680408358"
      },
      "outputs": [
        {
          "data": {
            "text/plain": [
              "text     16\n",
              "label     0\n",
              "dtype: int64"
            ]
          },
          "execution_count": 18,
          "metadata": {},
          "output_type": "execute_result"
        }
      ],
      "source": [
        "df_supervised.isnull().sum()"
      ]
    },
    {
      "cell_type": "code",
      "execution_count": 19,
      "metadata": {
        "colab": {
          "base_uri": "https://localhost:8080/"
        },
        "id": "QoziVNrOt2Cd",
        "outputId": "a2b4c041-89c8-4901-bf38-64d525b5a388"
      },
      "outputs": [
        {
          "name": "stdout",
          "output_type": "stream",
          "text": [
            "label\n",
            "0    12122\n",
            "2     8128\n",
            "Name: count, dtype: int64\n"
          ]
        }
      ],
      "source": [
        "print(df_supervised[\"label\"].value_counts())"
      ]
    },
    {
      "cell_type": "markdown",
      "metadata": {
        "id": "rdo0xxNOBU0A"
      },
      "source": [
        "## StopWord, Tokenizer, Stemming\n"
      ]
    },
    {
      "cell_type": "code",
      "execution_count": 20,
      "metadata": {
        "colab": {
          "base_uri": "https://localhost:8080/"
        },
        "id": "imh5ovngG3RQ",
        "outputId": "b1446c3c-83fd-439a-a5ab-488af3025b00"
      },
      "outputs": [
        {
          "name": "stderr",
          "output_type": "stream",
          "text": [
            "[nltk_data] Downloading package punkt to\n",
            "[nltk_data]     C:\\Users\\Acer\\AppData\\Roaming\\nltk_data...\n",
            "[nltk_data]   Package punkt is already up-to-date!\n",
            "[nltk_data] Downloading package stopwords to\n",
            "[nltk_data]     C:\\Users\\Acer\\AppData\\Roaming\\nltk_data...\n",
            "[nltk_data]   Package stopwords is already up-to-date!\n"
          ]
        }
      ],
      "source": [
        "import re\n",
        "import nltk\n",
        "from nltk.corpus import stopwords\n",
        "from nltk.tokenize import word_tokenize\n",
        "from nltk.stem import PorterStemmer\n",
        "\n",
        "# Inisialisasi tools NLP\n",
        "nltk.download('punkt')\n",
        "nltk.download('stopwords')\n",
        "ps = PorterStemmer()\n",
        "\n",
        "# Load slang dictionary aman\n",
        "slang_dict = {}\n",
        "with open(\"slang.txt\", \"r\", encoding=\"utf-8\") as f:\n",
        "    for line in f:\n",
        "        line = line.strip()\n",
        "        if not line or line.startswith(\"#\"):\n",
        "            continue\n",
        "        if \"=\" in line:\n",
        "            key, value = line.split(\"=\", 1)\n",
        "        elif \":\" in line:\n",
        "            key, value = line.split(\":\", 1)\n",
        "        else:\n",
        "            continue\n",
        "        slang_dict[key.strip().lower()] = value.strip().lower()\n",
        "\n",
        "# Fungsi formalization slangword\n",
        "def convertToSlangword(tokens):\n",
        "    return [slang_dict.get(word.lower(), word.lower()) for word in tokens]\n",
        "\n",
        "# Fungsi cleaning\n",
        "def cleaning_email(isi):\n",
        "    isi = re.sub(r'@[A-Za-z0-9]+',' ',isi)  # hapus mention\n",
        "    isi = re.sub(r'#[A-Za-z0-9]+',' ',isi)  # hapus hashtag\n",
        "    isi = re.sub(r\"http\\S+\",' ',isi)        # hapus URL\n",
        "    isi = re.sub(r'[0-9]+',' ',isi)         # hapus angka\n",
        "    isi = re.sub(r\"[-()\\\"#/@;:<>{}'+=~|.!?,_]\", \" \", isi)  # hapus simbol\n",
        "    return isi.strip()\n",
        "\n",
        "# Fungsi utama preprocessing\n",
        "def preprocess_dataframe(df, text_col=\"text\"):\n",
        "    df[text_col] = df[text_col].fillna(\"\").astype(str)\n",
        "    # 1. Cleaning dasar\n",
        "    df['cleaning'] = df[text_col].apply(cleaning_email)\n",
        "\n",
        "    # 2. Hapus emoji\n",
        "    df['hapusEmoji'] = df['cleaning'].apply(lambda x: x.encode('ascii', 'ignore').decode('ascii'))\n",
        "\n",
        "    # 3. Replace triple or more character\n",
        "    df['replaceTOM'] = df['hapusEmoji'].apply(lambda x: re.sub(r'(.)\\1{2,}', r'\\1', x))\n",
        "\n",
        "    # 4. Case folding\n",
        "    df['caseFolding'] = df['replaceTOM'].str.lower()\n",
        "\n",
        "    # 5. Tokenizing\n",
        "    df['tokenizing'] = df['caseFolding'].apply(word_tokenize)\n",
        "\n",
        "    # 6. Formalisasi slangword\n",
        "    df['formalisasi'] = df['tokenizing'].apply(convertToSlangword)\n",
        "\n",
        "    # 7. Stopword removal\n",
        "    stopword_list = set(stopwords.words('english'))\n",
        "    stopword_list.update([\"subject\", \"re\", \"fw\", \"fwd\", \"etc\", \"ok\", \"thank\", \"thanks\", \"hi\", \"hello\", \"regards\", \"dear\"])\n",
        "    df['removeStop'] = df['formalisasi'].apply(lambda tokens: [w for w in tokens if w not in stopword_list])\n",
        "\n",
        "    # 8. Stemming\n",
        "    df['stemming'] = df['removeStop'].apply(lambda tokens: [ps.stem(w) for w in tokens])\n",
        "\n",
        "    # 9. Join jadi final text\n",
        "    df['final_text'] = df['stemming'].apply(lambda tokens: \" \".join(tokens))\n",
        "\n",
        "    return df\n"
      ]
    },
    {
      "cell_type": "code",
      "execution_count": 21,
      "metadata": {
        "colab": {
          "base_uri": "https://localhost:8080/"
        },
        "id": "1hZYIMAlU0lR",
        "outputId": "e2737e14-bd5b-41b8-941e-151d65666508"
      },
      "outputs": [
        {
          "name": "stdout",
          "output_type": "stream",
          "text": [
            "                                                text  label  \\\n",
            "0  re : 6 . 1100 , disc : uniformitarianism , re ...      0   \n",
            "1  the other side of * galicismos * * galicismo *...      0   \n",
            "2  re : equistar deal tickets are you still avail...      0   \n",
            "3  \\nHello I am your hot lil horny toy.\\n    I am...      2   \n",
            "4  software at incredibly low prices ( 86 % lower...      2   \n",
            "\n",
            "                                          final_text  \n",
            "0  disc uniformitarian sex lang dick hudson obser...  \n",
            "1  side * galicismo * * galicismo * spanish term ...  \n",
            "2  equistar deal ticket still avail assist robert...  \n",
            "3  hot lil horni toy one dream open mind person l...  \n",
            "4  softwar incred low price % lower draperi seven...  \n",
            "                                                text  \\\n",
            "0  ENA Contact\\n\\nDaren Farmer\\nPhone # 713-853-6...   \n",
            "1  Agreed - can you please confirm directly with ...   \n",
            "2  Please send Pam Benson the information for Joe...   \n",
            "3  Blue Range Resources Corporation is an execute...   \n",
            "4  Andrew,  Attached is the CSA.  I added some la...   \n",
            "\n",
            "                                          final_text  \n",
            "0            ena contact daren farmer phone fax eb f  \n",
            "1  agre pleas confirm directli erica tax problem ...  \n",
            "2  pleas send pam benson inform joe send check ma...  \n",
            "3  blue rang resourc corpor execut isda master ec...  \n",
            "4  andrew attach csa ad languag hp hour charg sec...  \n",
            "label\n",
            "0    12122\n",
            "2     8128\n",
            "Name: count, dtype: int64\n"
          ]
        }
      ],
      "source": [
        "# =========================\n",
        "# 1. Preprocess dataset\n",
        "# =========================\n",
        "df_supervised = preprocess_dataframe(df_supervised, text_col=\"text\")\n",
        "df_unlabeled = preprocess_dataframe(df_unlabeled, text_col=\"text\")\n",
        "\n",
        "# =========================\n",
        "# 2. Lihat hasil\n",
        "# =========================\n",
        "print(df_supervised[['text', 'label', 'final_text']].head())\n",
        "print(df_unlabeled[['text', 'final_text']].head())\n",
        "\n",
        "# =========================\n",
        "# 3. Cek distribusi label\n",
        "# =========================\n",
        "print(df_supervised['label'].value_counts())\n"
      ]
    },
    {
      "cell_type": "markdown",
      "metadata": {
        "id": "siW7TzxSBqZi"
      },
      "source": [
        "## Split Data"
      ]
    },
    {
      "cell_type": "code",
      "execution_count": 22,
      "metadata": {
        "id": "mwRXWrjLbeuR"
      },
      "outputs": [],
      "source": [
        "from sklearn.model_selection import train_test_split\n",
        "\n",
        "X = df_supervised['final_text']\n",
        "y = df_supervised['label']\n",
        "X_train, X_test, y_train, y_test = train_test_split(X, y, test_size=0.2, random_state=42)"
      ]
    },
    {
      "cell_type": "code",
      "execution_count": 23,
      "metadata": {
        "id": "ClE9LzH_buIw"
      },
      "outputs": [],
      "source": [
        "from sklearn.feature_extraction.text import TfidfVectorizer\n",
        "tfidf = TfidfVectorizer(max_features=10000, ngram_range=(1,2))"
      ]
    },
    {
      "cell_type": "code",
      "execution_count": 24,
      "metadata": {
        "id": "gM4hVVrWmYKp"
      },
      "outputs": [],
      "source": [
        "X_train_tfidf = tfidf.fit_transform(X_train)\n",
        "X_test_tfidf = tfidf.transform(X_test)"
      ]
    },
    {
      "cell_type": "markdown",
      "metadata": {
        "id": "cnul1AlIBuDv"
      },
      "source": [
        "## Modeling"
      ]
    },
    {
      "cell_type": "code",
      "execution_count": 25,
      "metadata": {
        "colab": {
          "base_uri": "https://localhost:8080/"
        },
        "id": "L4ou-sXpszlT",
        "outputId": "f7aa6e9b-752d-4fd7-cdcd-aa2085497e5d"
      },
      "outputs": [
        {
          "name": "stdout",
          "output_type": "stream",
          "text": [
            "\n",
            "===== Naive Bayes =====\n",
            "Accuracy: 0.9175308641975308\n",
            "Classification Report:\n",
            "               precision    recall  f1-score   support\n",
            "\n",
            "           0       0.96      0.90      0.93      2403\n",
            "           2       0.87      0.94      0.90      1647\n",
            "\n",
            "    accuracy                           0.92      4050\n",
            "   macro avg       0.91      0.92      0.92      4050\n",
            "weighted avg       0.92      0.92      0.92      4050\n",
            "\n",
            "Confusion Matrix:\n",
            " [[2167  236]\n",
            " [  98 1549]]\n",
            "Cross-val scores: [0.93925926 0.92425926 0.92685185]\n",
            "Mean accuracy: 0.9301234567901234\n",
            "\n",
            "===== Logistic Regression =====\n",
            "Accuracy: 0.9419753086419753\n",
            "Classification Report:\n",
            "               precision    recall  f1-score   support\n",
            "\n",
            "           0       0.95      0.95      0.95      2403\n",
            "           2       0.93      0.93      0.93      1647\n",
            "\n",
            "    accuracy                           0.94      4050\n",
            "   macro avg       0.94      0.94      0.94      4050\n",
            "weighted avg       0.94      0.94      0.94      4050\n",
            "\n",
            "Confusion Matrix:\n",
            " [[2282  121]\n",
            " [ 114 1533]]\n",
            "Cross-val scores: [0.95185185 0.94407407 0.94185185]\n",
            "Mean accuracy: 0.945925925925926\n",
            "\n",
            "===== SVM =====\n",
            "Accuracy: 0.9525925925925925\n",
            "Classification Report:\n",
            "               precision    recall  f1-score   support\n",
            "\n",
            "           0       0.97      0.95      0.96      2403\n",
            "           2       0.93      0.95      0.94      1647\n",
            "\n",
            "    accuracy                           0.95      4050\n",
            "   macro avg       0.95      0.95      0.95      4050\n",
            "weighted avg       0.95      0.95      0.95      4050\n",
            "\n",
            "Confusion Matrix:\n",
            " [[2286  117]\n",
            " [  75 1572]]\n",
            "Cross-val scores: [0.95611111 0.95018519 0.95037037]\n",
            "Mean accuracy: 0.9522222222222222\n"
          ]
        }
      ],
      "source": [
        "# from sklearn.naive_bayes import MultinomialNB\n",
        "# from sklearn.linear_model import LogisticRegression\n",
        "# from sklearn.svm import LinearSVC\n",
        "# from sklearn.model_selection import cross_val_score\n",
        "# from sklearn.metrics import accuracy_score, classification_report\n",
        "\n",
        "# # Naive Bayes\n",
        "# model_nb = MultinomialNB()\n",
        "# model_nb.fit(X_train_tfidf, y_train)\n",
        "# pred_nb = model_nb.predict(X_test_tfidf)\n",
        "# acc_nb = cross_val_score(model_nb, X_train_tfidf, y_train, cv=3, scoring='accuracy')\n",
        "\n",
        "# # SVM\n",
        "# model_svm = LinearSVC()\n",
        "# model_svm.fit(X_train_tfidf, y_train)\n",
        "# pred_svm = model_svm.predict(X_test_tfidf)\n",
        "\n",
        "# # Logistic Linear\n",
        "# model_lr = LogisticRegression()\n",
        "# model_lr.fit(X_train_tfidf, y_train)\n",
        "# pred_lr = model_lr.predict(X_test_tfidf)\n",
        "\n",
        "from sklearn.naive_bayes import MultinomialNB\n",
        "from sklearn.linear_model import LogisticRegression\n",
        "from sklearn.svm import LinearSVC\n",
        "from sklearn.model_selection import cross_val_score\n",
        "from sklearn.metrics import accuracy_score, classification_report, confusion_matrix\n",
        "import numpy as np\n",
        "\n",
        "models = {\n",
        "    \"Naive Bayes\": MultinomialNB(),\n",
        "    \"Logistic Regression\": LogisticRegression(max_iter=1000, solver=\"liblinear\"),\n",
        "    \"SVM\": LinearSVC()\n",
        "}\n",
        "\n",
        "for name, model in models.items():\n",
        "    print(f\"\\n===== {name} =====\")\n",
        "    # Train\n",
        "    model.fit(X_train_tfidf, y_train)\n",
        "\n",
        "    # Prediction\n",
        "    preds = model.predict(X_test_tfidf)\n",
        "\n",
        "    # Accuracy\n",
        "    acc = accuracy_score(y_test, preds)\n",
        "    print(\"Accuracy:\", acc)\n",
        "\n",
        "    # Classification report\n",
        "    print(\"Classification Report:\\n\", classification_report(y_test, preds))\n",
        "\n",
        "    # Confusion matrix\n",
        "    print(\"Confusion Matrix:\\n\", confusion_matrix(y_test, preds))\n",
        "\n",
        "    # Cross-validation\n",
        "    cv_scores = cross_val_score(model, X_train_tfidf, y_train, cv=3, scoring=\"accuracy\")\n",
        "    print(\"Cross-val scores:\", cv_scores)\n",
        "    print(\"Mean accuracy:\", np.mean(cv_scores))\n",
        "\n",
        "\n"
      ]
    },
    {
      "cell_type": "markdown",
      "metadata": {
        "id": "6eVc4KqECMiv"
      },
      "source": [
        "## Inference"
      ]
    },
    {
      "cell_type": "code",
      "execution_count": 26,
      "metadata": {
        "colab": {
          "base_uri": "https://localhost:8080/"
        },
        "id": "dgzWcaDxz4OW",
        "outputId": "de74939f-3df2-4b04-d8db-4c42af7567bd"
      },
      "outputs": [
        {
          "name": "stdout",
          "output_type": "stream",
          "text": [
            "\n",
            "Email: Subject: Security alert: A new sign-in to your account\n",
            "\n",
            "From: My Services Corp Security no-reply@account.myservicescorp.com\n",
            "\n",
            "To: john.doe@email.com\n",
            "\n",
            "Hello John Doe,\n",
            "\n",
            "Your My Services Corp account was just used to sign in from a new browser. We are sending you this notification to ensure your account remains secure.\n",
            "\n",
            "Sign-in details:\n",
            "\n",
            "Time: Monday, September 22, 2025, 5:10 PM (WIB)\n",
            "\n",
            "Device: Chrome on Windows\n",
            "\n",
            "Location: Jakarta, Indonesia (approximate)\n",
            "\n",
            "If this was you, you can safely ignore this email. Your device has been added to your trusted devices list.\n",
            "\n",
            "If this was not you, your account may have been compromised. Please follow these steps immediately:\n",
            "\n",
            "Click here to review your account activity and secure your account:\n",
            "Review Activity\n",
            "\n",
            "You will be guided to change your password and review your security settings.\n",
            "\n",
            "Worried about this email's authenticity?\n",
            "Do not click any links. Instead, open your web browser and manually type https://account.myservicescorp.com into the address bar. From there, you can sign in and check your account's recent activity.\n",
            "\n",
            "Thanks,\n",
            "The My Services Corp Team\n",
            "\n",
            "© 2025 My Services Corp Inc., 123 Main Street, Anytown, USA.\n",
            "This is a mandatory service email to inform you of important changes to your account.\n",
            "Prediksi: ASLI\n",
            "\n",
            "Email: Subject: Urgent: Unusual Sign-In Activity on Your Account - Action Required\n",
            "\n",
            "From: Security Support no-reply@cld-security-update.com\n",
            "\n",
            "To: recipient.email@example.com\n",
            "\n",
            "Dear Valued Customer,\n",
            "\n",
            "We detected an unusual sign-in attempt to your account from a location we don't recognize.\n",
            "\n",
            "Details:\n",
            "\n",
            "Time: 22 September 2025, 03:15 AM (UTC)\n",
            "\n",
            "Location: Moscow, Russia (IP Address: 103.77.21.89)\n",
            "\n",
            "Device: Unknown Browser on Windows 10\n",
            "\n",
            "For your protection, we have temporarily suspended your account. To regain access, you must verify your identity and confirm your recent activity immediately.\n",
            "\n",
            "Please click the link below to review the activity and secure your account.\n",
            "\n",
            "SECURE YOUR ACCOUNT NOW\n",
            "\n",
            "If you do not take action within the next 12 hours, your account will be permanently disabled to prevent further unauthorized access.\n",
            "\n",
            "If this was you, you can disregard this email. However, we strongly recommend reviewing your security settings.\n",
            "\n",
            "Thank you for your cooperation.\n",
            "\n",
            "Sincerely,\n",
            "The Cloud Services Security Team\n",
            "\n",
            "\n",
            "Prediksi: PHISHING\n"
          ]
        }
      ],
      "source": [
        "# Mapping label ke kategori\n",
        "label_map = {0: \"ASLI\", 2: \"PHISHING\"}\n",
        "\n",
        "# Contoh email\n",
        "email_asli = '''Subject: Security alert: A new sign-in to your account\n",
        "\n",
        "From: My Services Corp Security no-reply@account.myservicescorp.com\n",
        "\n",
        "To: john.doe@email.com\n",
        "\n",
        "Hello John Doe,\n",
        "\n",
        "Your My Services Corp account was just used to sign in from a new browser. We are sending you this notification to ensure your account remains secure.\n",
        "\n",
        "Sign-in details:\n",
        "\n",
        "Time: Monday, September 22, 2025, 5:10 PM (WIB)\n",
        "\n",
        "Device: Chrome on Windows\n",
        "\n",
        "Location: Jakarta, Indonesia (approximate)\n",
        "\n",
        "If this was you, you can safely ignore this email. Your device has been added to your trusted devices list.\n",
        "\n",
        "If this was not you, your account may have been compromised. Please follow these steps immediately:\n",
        "\n",
        "Click here to review your account activity and secure your account:\n",
        "Review Activity\n",
        "\n",
        "You will be guided to change your password and review your security settings.\n",
        "\n",
        "Worried about this email's authenticity?\n",
        "Do not click any links. Instead, open your web browser and manually type https://account.myservicescorp.com into the address bar. From there, you can sign in and check your account's recent activity.\n",
        "\n",
        "Thanks,\n",
        "The My Services Corp Team\n",
        "\n",
        "© 2025 My Services Corp Inc., 123 Main Street, Anytown, USA.\n",
        "This is a mandatory service email to inform you of important changes to your account.'''\n",
        "email_phish = '''Subject: Urgent: Unusual Sign-In Activity on Your Account - Action Required\n",
        "\n",
        "From: Security Support no-reply@cld-security-update.com\n",
        "\n",
        "To: recipient.email@example.com\n",
        "\n",
        "Dear Valued Customer,\n",
        "\n",
        "We detected an unusual sign-in attempt to your account from a location we don't recognize.\n",
        "\n",
        "Details:\n",
        "\n",
        "Time: 22 September 2025, 03:15 AM (UTC)\n",
        "\n",
        "Location: Moscow, Russia (IP Address: 103.77.21.89)\n",
        "\n",
        "Device: Unknown Browser on Windows 10\n",
        "\n",
        "For your protection, we have temporarily suspended your account. To regain access, you must verify your identity and confirm your recent activity immediately.\n",
        "\n",
        "Please click the link below to review the activity and secure your account.\n",
        "\n",
        "SECURE YOUR ACCOUNT NOW\n",
        "\n",
        "If you do not take action within the next 12 hours, your account will be permanently disabled to prevent further unauthorized access.\n",
        "\n",
        "If this was you, you can disregard this email. However, we strongly recommend reviewing your security settings.\n",
        "\n",
        "Thank you for your cooperation.\n",
        "\n",
        "Sincerely,\n",
        "The Cloud Services Security Team\n",
        "\n",
        "'''\n",
        "\n",
        "# Pilih model terbaik (misal: SVM)\n",
        "best_model = models[\"SVM\"]\n",
        "\n",
        "# Preprocessing manual supaya sama dengan pipeline\n",
        "def preprocess_single_text(text):\n",
        "    text = cleaning_email(text)\n",
        "    text = text.encode('ascii', 'ignore').decode('ascii')\n",
        "    text = re.sub(r'(.)\\1{2,}', r'\\1', text)\n",
        "    text = text.lower()\n",
        "    tokens = word_tokenize(text)\n",
        "    tokens = convertToSlangword(tokens)\n",
        "    stopword_list = set(stopwords.words('english'))\n",
        "    stopword_list.update([\"subject\",\"re\",\"fw\",\"fwd\",\"etc\",\"ok\",\"thank\",\"thanks\",\"hi\",\"hello\",\"regards\",\"dear\"])\n",
        "    tokens = [w for w in tokens if w not in stopword_list]\n",
        "    tokens = [ps.stem(w) for w in tokens]\n",
        "    return \" \".join(tokens)\n",
        "\n",
        "# Preprocess & transform\n",
        "emails = [email_asli, email_phish]\n",
        "emails_processed = [preprocess_single_text(e) for e in emails]\n",
        "emails_tfidf = tfidf.transform(emails_processed)\n",
        "\n",
        "# Predict\n",
        "preds = best_model.predict(emails_tfidf)\n",
        "\n",
        "# Print hasil\n",
        "for i, email in enumerate(emails):\n",
        "    print(\"\\nEmail:\", email)\n",
        "    print(\"Prediksi:\", label_map.get(preds[i], preds[i]))"
      ]
    },
    {
      "cell_type": "code",
      "execution_count": null,
      "metadata": {
        "colab": {
          "base_uri": "https://localhost:8080/"
        },
        "id": "HjFwTJt8OmU_",
        "outputId": "bf5eac74-4c1d-4797-b56b-c9f2c25f5939"
      },
      "outputs": [
        {
          "name": "stdout",
          "output_type": "stream",
          "text": [
            "✅ Model dan vectorizer berhasil disimpan:\n",
            "/models/saved_models\\svm_phishing_model.pkl\n",
            "/models/saved_models\\tfidf_vectorizer.pkl\n"
          ]
        }
      ],
      "source": [
        "import pickle\n",
        "\n",
        "# Simpan TF-IDF vectorizer\n",
        "with open('tfidf.pkl', 'wb') as f:\n",
        "    pickle.dump(tfidf, f)\n",
        "\n",
        "# Simpan model terbaik (misal SVM)\n",
        "with open('model.pkl', 'wb') as f:\n",
        "    pickle.dump(best_model, f)\n",
        "\n",
        "print(\"✅ Model dan TF-IDF berhasil disimpan!\")"
      ]
    }
  ],
  "metadata": {
    "colab": {
      "history_visible": true,
      "provenance": []
    },
    "kernelspec": {
      "display_name": "Python 3",
      "name": "python3"
    },
    "language_info": {
      "codemirror_mode": {
        "name": "ipython",
        "version": 3
      },
      "file_extension": ".py",
      "mimetype": "text/x-python",
      "name": "python",
      "nbconvert_exporter": "python",
      "pygments_lexer": "ipython3",
      "version": "3.13.5"
    }
  },
  "nbformat": 4,
  "nbformat_minor": 0
}
